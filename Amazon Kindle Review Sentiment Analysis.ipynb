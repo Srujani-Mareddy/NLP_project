{
 "cells": [
  {
   "cell_type": "code",
   "execution_count": 26,
   "id": "d86fc8db",
   "metadata": {},
   "outputs": [],
   "source": [
    "import pandas as pd\n",
    "df=pd.read_csv(\"all_kindle_review .csv\")"
   ]
  },
  {
   "cell_type": "code",
   "execution_count": 27,
   "id": "d5573557",
   "metadata": {},
   "outputs": [
    {
     "data": {
      "text/html": [
       "<div>\n",
       "<style scoped>\n",
       "    .dataframe tbody tr th:only-of-type {\n",
       "        vertical-align: middle;\n",
       "    }\n",
       "\n",
       "    .dataframe tbody tr th {\n",
       "        vertical-align: top;\n",
       "    }\n",
       "\n",
       "    .dataframe thead th {\n",
       "        text-align: right;\n",
       "    }\n",
       "</style>\n",
       "<table border=\"1\" class=\"dataframe\">\n",
       "  <thead>\n",
       "    <tr style=\"text-align: right;\">\n",
       "      <th></th>\n",
       "      <th>Unnamed: 0.1</th>\n",
       "      <th>Unnamed: 0</th>\n",
       "      <th>asin</th>\n",
       "      <th>helpful</th>\n",
       "      <th>rating</th>\n",
       "      <th>reviewText</th>\n",
       "      <th>reviewTime</th>\n",
       "      <th>reviewerID</th>\n",
       "      <th>reviewerName</th>\n",
       "      <th>summary</th>\n",
       "      <th>unixReviewTime</th>\n",
       "    </tr>\n",
       "  </thead>\n",
       "  <tbody>\n",
       "    <tr>\n",
       "      <th>0</th>\n",
       "      <td>0</td>\n",
       "      <td>11539</td>\n",
       "      <td>B0033UV8HI</td>\n",
       "      <td>[8, 10]</td>\n",
       "      <td>3</td>\n",
       "      <td>Jace Rankin may be short, but he's nothing to ...</td>\n",
       "      <td>09 2, 2010</td>\n",
       "      <td>A3HHXRELK8BHQG</td>\n",
       "      <td>Ridley</td>\n",
       "      <td>Entertaining But Average</td>\n",
       "      <td>1283385600</td>\n",
       "    </tr>\n",
       "    <tr>\n",
       "      <th>1</th>\n",
       "      <td>1</td>\n",
       "      <td>5957</td>\n",
       "      <td>B002HJV4DE</td>\n",
       "      <td>[1, 1]</td>\n",
       "      <td>5</td>\n",
       "      <td>Great short read.  I didn't want to put it dow...</td>\n",
       "      <td>10 8, 2013</td>\n",
       "      <td>A2RGNZ0TRF578I</td>\n",
       "      <td>Holly Butler</td>\n",
       "      <td>Terrific menage scenes!</td>\n",
       "      <td>1381190400</td>\n",
       "    </tr>\n",
       "    <tr>\n",
       "      <th>2</th>\n",
       "      <td>2</td>\n",
       "      <td>9146</td>\n",
       "      <td>B002ZG96I4</td>\n",
       "      <td>[0, 0]</td>\n",
       "      <td>3</td>\n",
       "      <td>I'll start by saying this is the first of four...</td>\n",
       "      <td>04 11, 2014</td>\n",
       "      <td>A3S0H2HV6U1I7F</td>\n",
       "      <td>Merissa</td>\n",
       "      <td>Snapdragon Alley</td>\n",
       "      <td>1397174400</td>\n",
       "    </tr>\n",
       "    <tr>\n",
       "      <th>3</th>\n",
       "      <td>3</td>\n",
       "      <td>7038</td>\n",
       "      <td>B002QHWOEU</td>\n",
       "      <td>[1, 3]</td>\n",
       "      <td>3</td>\n",
       "      <td>Aggie is Angela Lansbury who carries pocketboo...</td>\n",
       "      <td>07 5, 2014</td>\n",
       "      <td>AC4OQW3GZ919J</td>\n",
       "      <td>Cleargrace</td>\n",
       "      <td>very light murder cozy</td>\n",
       "      <td>1404518400</td>\n",
       "    </tr>\n",
       "    <tr>\n",
       "      <th>4</th>\n",
       "      <td>4</td>\n",
       "      <td>1776</td>\n",
       "      <td>B001A06VJ8</td>\n",
       "      <td>[0, 1]</td>\n",
       "      <td>4</td>\n",
       "      <td>I did not expect this type of book to be in li...</td>\n",
       "      <td>12 31, 2012</td>\n",
       "      <td>A3C9V987IQHOQD</td>\n",
       "      <td>Rjostler</td>\n",
       "      <td>Book</td>\n",
       "      <td>1356912000</td>\n",
       "    </tr>\n",
       "  </tbody>\n",
       "</table>\n",
       "</div>"
      ],
      "text/plain": [
       "   Unnamed: 0.1  Unnamed: 0        asin  helpful  rating  \\\n",
       "0             0       11539  B0033UV8HI  [8, 10]       3   \n",
       "1             1        5957  B002HJV4DE   [1, 1]       5   \n",
       "2             2        9146  B002ZG96I4   [0, 0]       3   \n",
       "3             3        7038  B002QHWOEU   [1, 3]       3   \n",
       "4             4        1776  B001A06VJ8   [0, 1]       4   \n",
       "\n",
       "                                          reviewText   reviewTime  \\\n",
       "0  Jace Rankin may be short, but he's nothing to ...   09 2, 2010   \n",
       "1  Great short read.  I didn't want to put it dow...   10 8, 2013   \n",
       "2  I'll start by saying this is the first of four...  04 11, 2014   \n",
       "3  Aggie is Angela Lansbury who carries pocketboo...   07 5, 2014   \n",
       "4  I did not expect this type of book to be in li...  12 31, 2012   \n",
       "\n",
       "       reviewerID  reviewerName                   summary  unixReviewTime  \n",
       "0  A3HHXRELK8BHQG        Ridley  Entertaining But Average      1283385600  \n",
       "1  A2RGNZ0TRF578I  Holly Butler   Terrific menage scenes!      1381190400  \n",
       "2  A3S0H2HV6U1I7F       Merissa          Snapdragon Alley      1397174400  \n",
       "3   AC4OQW3GZ919J    Cleargrace    very light murder cozy      1404518400  \n",
       "4  A3C9V987IQHOQD      Rjostler                      Book      1356912000  "
      ]
     },
     "execution_count": 27,
     "metadata": {},
     "output_type": "execute_result"
    }
   ],
   "source": [
    "df.head(5)"
   ]
  },
  {
   "cell_type": "markdown",
   "id": "92cfb29c",
   "metadata": {},
   "source": [
    "## Data Pre-processing"
   ]
  },
  {
   "cell_type": "code",
   "execution_count": 28,
   "id": "52df32b6",
   "metadata": {},
   "outputs": [
    {
     "name": "stderr",
     "output_type": "stream",
     "text": [
      "[nltk_data] Downloading package stopwords to\n",
      "[nltk_data]     /Users/nithyasreekusakula/nltk_data...\n",
      "[nltk_data]   Package stopwords is already up-to-date!\n"
     ]
    }
   ],
   "source": [
    "import numpy as np\n",
    "from nltk.corpus import stopwords\n",
    "import nltk\n",
    "import re\n",
    "\n",
    "nltk.download('stopwords')\n",
    "\n",
    "def preprocess_text(text):\n",
    "    #We first remove the HTML tags\n",
    "    text=re.sub(r'<*.?>',' ',text)\n",
    "    #And remove all the non-alphabetical characters\n",
    "    text=re.sub(r'[^a-zA-Z]',' ',text)\n",
    "    #convert the text to lower\n",
    "    text=text.lower()\n",
    "    #tokenize\n",
    "    words=text.split()\n",
    "    #remove the stopwords\n",
    "    words=[word for word in words if word not in stopwords.words('english')]\n",
    "    return ' '.join(words)\n",
    "    \n",
    "#apply preprocessing\n",
    "df['cleaned_review']=df['reviewText'].apply(preprocess_text)   "
   ]
  },
  {
   "cell_type": "code",
   "execution_count": 29,
   "id": "c9310402",
   "metadata": {},
   "outputs": [
    {
     "data": {
      "text/plain": [
       "0        jace rankin may short nothing mess man hauled ...\n",
       "1        great short read want put read one sitting sex...\n",
       "2        start saying first four books expecting conclu...\n",
       "3        aggie angela lansbury carries pocketbooks inst...\n",
       "4        expect type book library pleased find price right\n",
       "                               ...                        \n",
       "11995    valentine cupid vampire jena ian another vampi...\n",
       "11996    read seven books series apocalyptic adventure ...\n",
       "11997    book really cuppa situation man capturing woma...\n",
       "11998    tried use charge kindle even register charging...\n",
       "11999    taking instruction look often hidden world sex...\n",
       "Name: cleaned_review, Length: 12000, dtype: object"
      ]
     },
     "execution_count": 29,
     "metadata": {},
     "output_type": "execute_result"
    }
   ],
   "source": [
    "df['cleaned_review']"
   ]
  },
  {
   "cell_type": "code",
   "execution_count": 30,
   "id": "fec4d9a9",
   "metadata": {},
   "outputs": [
    {
     "name": "stdout",
     "output_type": "stream",
     "text": [
      "                                          reviewText  \\\n",
      "0  Jace Rankin may be short, but he's nothing to ...   \n",
      "1  Great short read.  I didn't want to put it dow...   \n",
      "2  I'll start by saying this is the first of four...   \n",
      "3  Aggie is Angela Lansbury who carries pocketboo...   \n",
      "4  I did not expect this type of book to be in li...   \n",
      "\n",
      "                                      cleaned_review  rating  sentiment  \n",
      "0  jace rankin may short nothing mess man hauled ...       3          0  \n",
      "1  great short read want put read one sitting sex...       5          1  \n",
      "2  start saying first four books expecting conclu...       3          0  \n",
      "3  aggie angela lansbury carries pocketbooks inst...       3          0  \n",
      "4  expect type book library pleased find price right       4          1  \n"
     ]
    }
   ],
   "source": [
    "#Applying Sentiment labels\n",
    "df['sentiment']=df['rating'].apply(lambda x:1 if x>=4 else 0)\n",
    "print(df[['reviewText','cleaned_review','rating','sentiment']].head())"
   ]
  },
  {
   "cell_type": "markdown",
   "id": "28e1e7d3",
   "metadata": {},
   "source": [
    "# Splitting the data into train and test"
   ]
  },
  {
   "cell_type": "code",
   "execution_count": 31,
   "id": "063f762e",
   "metadata": {},
   "outputs": [],
   "source": [
    "from sklearn.model_selection import train_test_split\n",
    "X_train,X_test,y_train,y_test=train_test_split(df['cleaned_review'],df['sentiment'],test_size=0.2,random_state=42)"
   ]
  },
  {
   "cell_type": "markdown",
   "id": "ddcef9fe",
   "metadata": {},
   "source": [
    "## Bag of words"
   ]
  },
  {
   "cell_type": "code",
   "execution_count": 32,
   "id": "a6ac40d2",
   "metadata": {},
   "outputs": [],
   "source": [
    "from sklearn.feature_extraction.text import CountVectorizer\n",
    "from sklearn.naive_bayes import MultinomialNB\n",
    "from sklearn.metrics import accuracy_score, classification_report"
   ]
  },
  {
   "cell_type": "code",
   "execution_count": 33,
   "id": "1df0bb08",
   "metadata": {},
   "outputs": [
    {
     "name": "stdout",
     "output_type": "stream",
     "text": [
      "Bag Of Words Accuracy:  0.8341666666666666\n",
      "Bag of words classification report:                precision    recall  f1-score   support\n",
      "\n",
      "           0       0.80      0.83      0.82      1190\n",
      "           1       0.83      0.80      0.81      1210\n",
      "\n",
      "    accuracy                           0.82      2400\n",
      "   macro avg       0.82      0.82      0.82      2400\n",
      "weighted avg       0.82      0.82      0.82      2400\n",
      "\n"
     ]
    }
   ],
   "source": [
    "#Initializing the count vectorizer\n",
    "cv=CountVectorizer()\n",
    "X_train_bow=cv.fit_transform(X_train)\n",
    "X_test_bow=cv.transform(X_test)\n",
    "\n",
    "#Naive bayes classifier\n",
    "model_1=MultinomialNB()\n",
    "model_1.fit(X_train_bow,y_train)\n",
    "\n",
    "#predict on the test data\n",
    "y_pred=model_1.predict(X_test_bow)\n",
    "\n",
    "#evaluate the model\n",
    "accuracy_bow=accuracy_score(y_test,y_pred)\n",
    "c_report=classification_report(y_test,y_pred)\n",
    "\n",
    "print(\"Bag Of Words Accuracy: \",accuracy)\n",
    "print(\"Bag of words classification report: \",c_report)\n"
   ]
  },
  {
   "cell_type": "markdown",
   "id": "d917527d",
   "metadata": {},
   "source": [
    "## TFIDF"
   ]
  },
  {
   "cell_type": "code",
   "execution_count": 34,
   "id": "fc6eccd8",
   "metadata": {},
   "outputs": [
    {
     "name": "stdout",
     "output_type": "stream",
     "text": [
      "Tfidf Accuracy:  0.8341666666666666\n",
      "Tfidf classification report:                precision    recall  f1-score   support\n",
      "\n",
      "           0       0.85      0.81      0.83      1190\n",
      "           1       0.82      0.85      0.84      1210\n",
      "\n",
      "    accuracy                           0.83      2400\n",
      "   macro avg       0.83      0.83      0.83      2400\n",
      "weighted avg       0.83      0.83      0.83      2400\n",
      "\n"
     ]
    }
   ],
   "source": [
    "from sklearn.feature_extraction.text import TfidfVectorizer\n",
    "from sklearn.linear_model import LogisticRegression\n",
    "from sklearn.metrics import accuracy_score, classification_report\n",
    "\n",
    "tfidf_v=TfidfVectorizer()\n",
    "X_train_tfidf=tfidf_v.fit_transform(X_train)\n",
    "X_test_tfidf=tfidf_v.transform(X_test)\n",
    "\n",
    "model_2=LogisticRegression()\n",
    "model_2.fit(X_train_tfidf,y_train)\n",
    "\n",
    "y_pred=model_2.predict(X_test_tfidf)\n",
    "\n",
    "accuracy_tfidf=accuracy_score(y_test,y_pred)\n",
    "report=classification_report(y_test,y_pred)\n",
    "\n",
    "print(\"Tfidf Accuracy: \",accuracy)\n",
    "print(\"Tfidf classification report: \",report)\n",
    "\n"
   ]
  },
  {
   "cell_type": "markdown",
   "id": "63cd85c6",
   "metadata": {},
   "source": [
    "## Word2Vec"
   ]
  },
  {
   "cell_type": "code",
   "execution_count": 35,
   "id": "259d8b84",
   "metadata": {},
   "outputs": [],
   "source": [
    "from gensim.models import Word2Vec\n",
    "import numpy as np\n",
    "from sklearn.ensemble import RandomForestClassifier"
   ]
  },
  {
   "cell_type": "code",
   "execution_count": 36,
   "id": "25a01b1e",
   "metadata": {},
   "outputs": [],
   "source": [
    "tokenized_reviews=df['cleaned_review'].apply(nltk.word_tokenize)"
   ]
  },
  {
   "cell_type": "code",
   "execution_count": 37,
   "id": "d7c2f688",
   "metadata": {},
   "outputs": [
    {
     "data": {
      "text/plain": [
       "0        [jace, rankin, may, short, nothing, mess, man,...\n",
       "1        [great, short, read, want, put, read, one, sit...\n",
       "2        [start, saying, first, four, books, expecting,...\n",
       "3        [aggie, angela, lansbury, carries, pocketbooks...\n",
       "4        [expect, type, book, library, pleased, find, p...\n",
       "                               ...                        \n",
       "11995    [valentine, cupid, vampire, jena, ian, another...\n",
       "11996    [read, seven, books, series, apocalyptic, adve...\n",
       "11997    [book, really, cuppa, situation, man, capturin...\n",
       "11998    [tried, use, charge, kindle, even, register, c...\n",
       "11999    [taking, instruction, look, often, hidden, wor...\n",
       "Name: cleaned_review, Length: 12000, dtype: object"
      ]
     },
     "execution_count": 37,
     "metadata": {},
     "output_type": "execute_result"
    }
   ],
   "source": [
    "tokenized_reviews"
   ]
  },
  {
   "cell_type": "code",
   "execution_count": 38,
   "id": "0814b4d0",
   "metadata": {},
   "outputs": [],
   "source": [
    "word2vec_model=Word2Vec(sentences=tokenized_reviews, vector_size=100, window=5, min_count=1, workers=4)"
   ]
  },
  {
   "cell_type": "code",
   "execution_count": 39,
   "id": "de18ea5c",
   "metadata": {},
   "outputs": [
    {
     "name": "stdout",
     "output_type": "stream",
     "text": [
      "Word2Vec Model Accuracy 0.7508333333333334\n",
      "Word2Vec Model Classification Report               precision    recall  f1-score   support\n",
      "\n",
      "           0       0.75      0.75      0.75      1190\n",
      "           1       0.75      0.75      0.75      1210\n",
      "\n",
      "    accuracy                           0.75      2400\n",
      "   macro avg       0.75      0.75      0.75      2400\n",
      "weighted avg       0.75      0.75      0.75      2400\n",
      "\n"
     ]
    }
   ],
   "source": [
    "def get_review_vector(review, model):\n",
    "    words=review.split()\n",
    "    word_vectors=[model.wv[word] for word in words if word in model.wv]\n",
    "    if word_vectors:\n",
    "        return np.mean(word_vectors, axis=0)\n",
    "    else:\n",
    "        return np.zeros(model.vector_size)\n",
    "    \n",
    "#Coverting reviews to word vectors\n",
    "X_train_w2v=np.array([get_review_vector(review, word2vec_model) for review in X_train])\n",
    "X_test_w2v=np.array([get_review_vector(review, word2vec_model) for review in X_test])\n",
    "\n",
    "#Train a random forest classifier\n",
    "model_w2v=RandomForestClassifier()\n",
    "model_w2v.fit(X_train_w2v,y_train)\n",
    "\n",
    "#Predict on the test set\n",
    "y_pred_w2v=model_w2v.predict(X_test_w2v)\n",
    "\n",
    "#Evaluate the model\n",
    "accuracy_w2v=accuracy_score(y_test,y_pred_w2v)\n",
    "report_w2v=classification_report(y_test,y_pred_w2v)\n",
    "\n",
    "print(\"Word2Vec Model Accuracy\",accuracy_w2v)\n",
    "print(\"Word2Vec Model Classification Report\", report_w2v)"
   ]
  },
  {
   "cell_type": "code",
   "execution_count": 40,
   "id": "a90578db",
   "metadata": {},
   "outputs": [
    {
     "data": {
      "image/png": "[encoded data removed]",
      "text/plain": [
       "<Figure size 1000x500 with 1 Axes>"
      ]
     },
     "metadata": {},
     "output_type": "display_data"
    }
   ],
   "source": [
    "import matplotlib.pyplot as plt\n",
    "import seaborn as sns\n",
    "\n",
    "# Plot the accuracies of the models\n",
    "accuracies = [accuracy, accuracy_tfidf, accuracy_w2v]\n",
    "models = ['BoW', 'TF-IDF', 'Word2Vec']\n",
    "\n",
    "plt.figure(figsize=(10, 5))\n",
    "sns.barplot(x=models, y=accuracies)\n",
    "plt.xlabel('Model')\n",
    "plt.ylabel('Accuracy')\n",
    "plt.title('Model Accuracies')\n",
    "plt.show()\n"
   ]
  },
  {
   "cell_type": "code",
   "execution_count": 45,
   "id": "f962e992",
   "metadata": {},
   "outputs": [
    {
     "name": "stdout",
     "output_type": "stream",
     "text": [
      "Review: I absolutely love my new Kindle! It's lightweight and the battery lasts forever.\n",
      "Predicted Sentiment (BoW): Positive\n",
      "Predicted Sentiment (TF-IDF): Positive\n",
      "Predicted Sentiment (Word2Vec): Positive\n",
      "\n",
      "Review: This book was a waste of time. The plot was boring and the characters were uninteresting.\n",
      "Predicted Sentiment (BoW): Negative\n",
      "Predicted Sentiment (TF-IDF): Negative\n",
      "Predicted Sentiment (Word2Vec): Negative\n",
      "\n",
      "Review: The Kindle Paperwhite is fantastic! The screen is clear and easy to read even in bright sunlight.\n",
      "Predicted Sentiment (BoW): Positive\n",
      "Predicted Sentiment (TF-IDF): Positive\n",
      "Predicted Sentiment (Word2Vec): Positive\n",
      "\n",
      "Review: I'm very disappointed with this book. The storyline was predictable and poorly written.\n",
      "Predicted Sentiment (BoW): Negative\n",
      "Predicted Sentiment (TF-IDF): Negative\n",
      "Predicted Sentiment (Word2Vec): Negative\n",
      "\n",
      "Review: Great product! I've been using it every day and I couldn't be happier.\n",
      "Predicted Sentiment (BoW): Positive\n",
      "Predicted Sentiment (TF-IDF): Positive\n",
      "Predicted Sentiment (Word2Vec): Positive\n",
      "\n",
      "Review: Terrible book. The author clearly didn't do their research, and it shows.\n",
      "Predicted Sentiment (BoW): Negative\n",
      "Predicted Sentiment (TF-IDF): Negative\n",
      "Predicted Sentiment (Word2Vec): Negative\n",
      "\n"
     ]
    }
   ],
   "source": [
    "# Sample reviews\n",
    "example_reviews = [\n",
    "    \"I absolutely love my new Kindle! It's lightweight and the battery lasts forever.\",\n",
    "    \"This book was a waste of time. The plot was boring and the characters were uninteresting.\",\n",
    "    \"The Kindle Paperwhite is fantastic! The screen is clear and easy to read even in bright sunlight.\",\n",
    "    \"I'm very disappointed with this book. The storyline was predictable and poorly written.\",\n",
    "    \"Great product! I've been using it every day and I couldn't be happier.\",\n",
    "    \"Terrible book. The author clearly didn't do their research, and it shows.\"\n",
    "]\n",
    "\n",
    "# Preprocess the example reviews\n",
    "cleaned_example_reviews = [preprocess_text(review) for review in example_reviews]\n",
    "\n",
    "# Predict sentiment using BoW model\n",
    "example_reviews_bow = cv.transform(cleaned_example_reviews)\n",
    "predicted_sentiments_bow = model_1.predict(example_reviews_bow)\n",
    "\n",
    "# Predict sentiment using TF-IDF model\n",
    "example_reviews_tfidf = tfidf_v.transform(cleaned_example_reviews)\n",
    "predicted_sentiments_tfidf = model_2.predict(example_reviews_tfidf)\n",
    "\n",
    "# Predict sentiment using Word2Vec model\n",
    "example_reviews_w2v = np.array([get_review_vector(review, word2vec_model) for review in cleaned_example_reviews])\n",
    "predicted_sentiments_w2v = model_w2v.predict(example_reviews_w2v)\n",
    "\n",
    "# Display results\n",
    "for review, pred_bow, pred_tfidf, pred_w2v in zip(example_reviews, predicted_sentiments_bow, predicted_sentiments_tfidf, predicted_sentiments_w2v):\n",
    "    print(f\"Review: {review}\")\n",
    "    print(f\"Predicted Sentiment (BoW): {'Positive' if pred_bow == 1 else 'Negative'}\")\n",
    "    print(f\"Predicted Sentiment (TF-IDF): {'Positive' if pred_tfidf == 1 else 'Negative'}\")\n",
    "    print(f\"Predicted Sentiment (Word2Vec): {'Positive' if pred_w2v == 1 else 'Negative'}\\n\")\n"
   ]
  },
  {
   "cell_type": "code",
   "execution_count": null,
   "id": "de54254a",
   "metadata": {},
   "outputs": [],
   "source": []
  }
 ],
 "metadata": {
  "kernelspec": {
   "display_name": "Python 3 (ipykernel)",
   "language": "python",
   "name": "python3"
  },
  "language_info": {
   "codemirror_mode": {
    "name": "ipython",
    "version": 3
   },
   "file_extension": ".py",
   "mimetype": "text/x-python",
   "name": "python",
   "nbconvert_exporter": "python",
   "pygments_lexer": "ipython3",
   "version": "3.11.4"
  }
 },
 "nbformat": 4,
 "nbformat_minor": 5
}
